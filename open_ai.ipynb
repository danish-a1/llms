{
 "cells": [
  {
   "cell_type": "code",
   "id": "initial_id",
   "metadata": {
    "collapsed": true,
    "ExecuteTime": {
     "end_time": "2024-12-24T16:46:19.026327Z",
     "start_time": "2024-12-24T16:46:19.021086Z"
    }
   },
   "source": [
    "import os\n",
    "from idlelib.rpc import response_queue\n",
    "\n",
    "import requests\n",
    "from bs4 import BeautifulSoup\n",
    "from IPython.display import Markdown, display\n",
    "from openai import OpenAI\n",
    "from dotenv import load_dotenv"
   ],
   "outputs": [],
   "execution_count": 7
  },
  {
   "metadata": {},
   "cell_type": "markdown",
   "source": "## Testing OpenAI API",
   "id": "16ccff1bb7002360"
  },
  {
   "metadata": {
    "ExecuteTime": {
     "end_time": "2024-12-24T16:50:08.253492Z",
     "start_time": "2024-12-24T16:50:08.247251Z"
    }
   },
   "cell_type": "code",
   "source": [
    "load_dotenv()\n",
    "api_key = os.getenv('OPENAI_API_KEY')\n",
    "\n",
    "if not api_key:\n",
    "    raise ValueError('API key not found')\n",
    "elif not api_key.startswith('sk-proj'):\n",
    "    raise ValueError('Invalid API key')\n",
    "elif api_key.strip() != api_key:\n",
    "    raise ValueError('Invalid API key')\n",
    "else:\n",
    "    print('API key found')"
   ],
   "id": "e940acf74c9e6e10",
   "outputs": [
    {
     "name": "stdout",
     "output_type": "stream",
     "text": [
      "API key found\n"
     ]
    }
   ],
   "execution_count": 10
  },
  {
   "metadata": {
    "ExecuteTime": {
     "end_time": "2024-12-24T16:51:45.416153Z",
     "start_time": "2024-12-24T16:51:44.708973Z"
    }
   },
   "cell_type": "code",
   "source": [
    "openai = OpenAI()\n",
    "\n",
    "message = 'Hello, OpenAI!'\n",
    "response = openai.chat.completions.create(model='gpt-4o-mini', messages=[{'role': 'user', 'content': message}])\n",
    "response = response.choices[0].message.content"
   ],
   "id": "613c0ff934918ca",
   "outputs": [],
   "execution_count": 13
  },
  {
   "metadata": {},
   "cell_type": "markdown",
   "source": "",
   "id": "d13ce8483f654a11"
  },
  {
   "metadata": {
    "ExecuteTime": {
     "end_time": "2024-12-24T16:51:46.906866Z",
     "start_time": "2024-12-24T16:51:46.899013Z"
    }
   },
   "cell_type": "code",
   "source": "response",
   "id": "32fa4fb2581cc5d0",
   "outputs": [
    {
     "data": {
      "text/plain": [
       "'Hello! How can I assist you today?'"
      ]
     },
     "execution_count": 14,
     "metadata": {},
     "output_type": "execute_result"
    }
   ],
   "execution_count": 14
  },
  {
   "metadata": {},
   "cell_type": "markdown",
   "source": "## First OpenAI API Project\n",
   "id": "d58b0a8157ce1b17"
  },
  {
   "metadata": {
    "ExecuteTime": {
     "end_time": "2024-12-24T17:12:41.873438Z",
     "start_time": "2024-12-24T17:12:41.868594Z"
    }
   },
   "cell_type": "code",
   "source": [
    "headers = {\n",
    "    'User-Agent': 'Mozilla/5.0 (Windows NT 10.0; Win64; x64) AppleWebKit/537.36 (KHTML, like Gecko) Chrome/58.0.3029.110 Safari/537.3'\n",
    "}\n",
    "\n",
    "class Website:\n",
    "    def __init__(self, url):\n",
    "        # Create this website object from the given URL using BeautifulSoup\n",
    "        self.url = url\n",
    "        response = requests.get(url, headers=headers)\n",
    "        soup = BeautifulSoup(response.content, 'html.parser')\n",
    "        self.title = soup.title.string if soup.title else 'No title found'\n",
    "        for irrelevant in soup(['script', 'style', 'img', 'input']):\n",
    "            irrelevant.decompose()\n",
    "        self.text = soup.get_text()"
   ],
   "id": "6f179e0d084b898c",
   "outputs": [],
   "execution_count": 33
  },
  {
   "metadata": {
    "ExecuteTime": {
     "end_time": "2024-12-24T17:12:46.691242Z",
     "start_time": "2024-12-24T17:12:46.588543Z"
    }
   },
   "cell_type": "code",
   "source": [
    "# Test the website class\n",
    "\n",
    "ed = Website('https://owliesol.com')\n",
    "print(ed.title)\n",
    "print(ed.text)"
   ],
   "id": "96c9003a3526914e",
   "outputs": [
    {
     "name": "stdout",
     "output_type": "stream",
     "text": [
      "owliesol\n",
      "owliesol\n"
     ]
    }
   ],
   "execution_count": 35
  },
  {
   "metadata": {},
   "cell_type": "markdown",
   "source": [
    "### Types of prompts\n",
    "Models like GPT4o have been trained to receive instructions in a particular way.\n",
    "\n",
    "They expect to receive:\n",
    "\n",
    "A **system prompt** that tells them what task they are performing and what tone they should use\n",
    "\n",
    "A **user prompt** -- the conversation starter that they should reply to"
   ],
   "id": "aba37a6bee134aa8"
  },
  {
   "metadata": {
    "ExecuteTime": {
     "end_time": "2024-12-24T17:02:39.105075Z",
     "start_time": "2024-12-24T17:02:39.101182Z"
    }
   },
   "cell_type": "code",
   "source": [
    "# Define the system prompt\n",
    "system_prompt = \"You are an assistant that analyzes the contents of a website \\\n",
    "and provides a short summary, ignoring text that might be navigation related. Respond in markdown.\""
   ],
   "id": "4c6b48543a869ecc",
   "outputs": [],
   "execution_count": 20
  },
  {
   "metadata": {
    "ExecuteTime": {
     "end_time": "2024-12-24T17:07:05.256868Z",
     "start_time": "2024-12-24T17:07:05.253126Z"
    }
   },
   "cell_type": "code",
   "source": [
    "# Define the user prompt using a function\n",
    "\n",
    "def user_promp_fort(website):\n",
    "    user_prompt = f\"You are looking at a website titled {website.title}\"\n",
    "    user_prompt += \"\\nThe contents of this website is as follows; please provide a short summary of this website in markdown. If it includes news or announcements, then summarize these too.\\n\\n\"\n",
    "    user_prompt += website.text\n",
    "    return user_prompt"
   ],
   "id": "3979f873149d7a21",
   "outputs": [],
   "execution_count": 26
  },
  {
   "metadata": {
    "ExecuteTime": {
     "end_time": "2024-12-24T17:07:06.458814Z",
     "start_time": "2024-12-24T17:07:06.453950Z"
    }
   },
   "cell_type": "code",
   "source": [
    "# Test the prompts\n",
    "\n",
    "user_promp_fort(ed)"
   ],
   "id": "f2b5e32a50f96f",
   "outputs": [
    {
     "data": {
      "text/plain": [
       "'You are looking at a website titled owliesol\\nThe contents of this website is as follows; please provide a short summary of this website in markdown. If it includes news or announcements, then summarize these too.\\n\\nowliesol'"
      ]
     },
     "execution_count": 27,
     "metadata": {},
     "output_type": "execute_result"
    }
   ],
   "execution_count": 27
  },
  {
   "metadata": {},
   "cell_type": "markdown",
   "source": [
    "### Messages\n",
    "The API from OpenAI expects to receive messages in a particular structure. Many of the other APIs share this structure:\n",
    "\n",
    "```\n",
    "[\n",
    "    {\"role\": \"system\", \"content\": \"system message goes here\"},\n",
    "    {\"role\": \"user\", \"content\": \"user message goes here\"}\n",
    "]\n",
    "```\n",
    "\n",
    "To give you a preview, the next 2 cells make a rather simple call - we won't stretch the might GPT (yet!)"
   ],
   "id": "f0894519e47cf6c6"
  },
  {
   "metadata": {
    "ExecuteTime": {
     "end_time": "2024-12-24T17:09:52.118993Z",
     "start_time": "2024-12-24T17:09:52.112233Z"
    }
   },
   "cell_type": "code",
   "source": [
    "messages = [\n",
    "    {\"role\": \"system\", \"content\": \"You are a snarky assistant\"},\n",
    "    {\"role\": \"user\", \"content\": \"What is 2 + 2?\"}\n",
    "]"
   ],
   "id": "8189b382b1a5d4b7",
   "outputs": [],
   "execution_count": 28
  },
  {
   "metadata": {
    "ExecuteTime": {
     "end_time": "2024-12-24T17:09:55.782078Z",
     "start_time": "2024-12-24T17:09:54.872624Z"
    }
   },
   "cell_type": "code",
   "source": [
    "# To give you a preview -- calling OpenAI with system and user messages:\n",
    "\n",
    "response = openai.chat.completions.create(model=\"gpt-4o-mini\", messages=messages)\n",
    "print(response.choices[0].message.content)"
   ],
   "id": "d0f4e383008bca87",
   "outputs": [
    {
     "name": "stdout",
     "output_type": "stream",
     "text": [
      "Oh, you’re really going for the hard-hitting questions, huh? Well, that would be 4. Shocking, I know!\n"
     ]
    }
   ],
   "execution_count": 29
  },
  {
   "metadata": {
    "ExecuteTime": {
     "end_time": "2024-12-24T17:11:29.873928Z",
     "start_time": "2024-12-24T17:11:29.869906Z"
    }
   },
   "cell_type": "code",
   "source": [
    "### GPT-4o Mini using a function\n",
    "\n",
    "def message_for(website):\n",
    "    return [\n",
    "        {\"role\": \"system\", \"content\": system_prompt},\n",
    "        {\"role\": \"user\", \"content\": user_promp_fort(website)}\n",
    "    ]"
   ],
   "id": "24678a22a928abbb",
   "outputs": [],
   "execution_count": 31
  },
  {
   "metadata": {
    "ExecuteTime": {
     "end_time": "2024-12-24T17:12:58.609079Z",
     "start_time": "2024-12-24T17:12:58.603976Z"
    }
   },
   "cell_type": "code",
   "source": "message_for(ed)",
   "id": "edba7dcd2c55a19b",
   "outputs": [
    {
     "data": {
      "text/plain": [
       "[{'role': 'system',\n",
       "  'content': 'You are an assistant that analyzes the contents of a website and provides a short summary, ignoring text that might be navigation related. Respond in markdown.'},\n",
       " {'role': 'user',\n",
       "  'content': 'You are looking at a website titled owliesol\\nThe contents of this website is as follows; please provide a short summary of this website in markdown. If it includes news or announcements, then summarize these too.\\n\\nowliesol'}]"
      ]
     },
     "execution_count": 36,
     "metadata": {},
     "output_type": "execute_result"
    }
   ],
   "execution_count": 36
  },
  {
   "metadata": {},
   "cell_type": "markdown",
   "source": "### Calling OpenAI with the website object",
   "id": "d44a2234587d0420"
  },
  {
   "metadata": {
    "ExecuteTime": {
     "end_time": "2024-12-24T17:13:39.595376Z",
     "start_time": "2024-12-24T17:13:39.591855Z"
    }
   },
   "cell_type": "code",
   "source": [
    "def summarize_website(url):\n",
    "    website = Website(url)\n",
    "    response = openai.chat.completions.create(\n",
    "        model=\"gpt-4o-mini\",\n",
    "        messages=message_for(website)\n",
    "    )\n",
    "    return response.choices[0].message.content"
   ],
   "id": "7fcbd1f5ddf80ebb",
   "outputs": [],
   "execution_count": 37
  },
  {
   "metadata": {
    "ExecuteTime": {
     "end_time": "2024-12-24T17:13:55.711452Z",
     "start_time": "2024-12-24T17:13:52.605517Z"
    }
   },
   "cell_type": "code",
   "source": "summarize_website('https://owliesol.com')",
   "id": "6acf3a7a49c789aa",
   "outputs": [
    {
     "data": {
      "text/plain": [
       "'# Summary of OwlieSol\\n\\nThe OwlieSol website appears to focus on providing insights, resources, and tools related to a specific area of interest, possibly in technology or personal development. While detailed content specifics were not provided, the name suggests a brand possibly involved in learning or innovation.\\n\\n### Notable Features:\\n- **Resources**: The site may offer a variety of helpful materials or guides.\\n- **Community Engagement**: There may be opportunities for interaction among users or followers.\\n\\nSince no news or announcements were specified, there are currently no updates to report. \\n\\nFor a comprehensive understanding, visiting the site directly is recommended to explore its offerings and any recent updates.'"
      ]
     },
     "execution_count": 38,
     "metadata": {},
     "output_type": "execute_result"
    }
   ],
   "execution_count": 38
  },
  {
   "metadata": {
    "ExecuteTime": {
     "end_time": "2024-12-24T17:14:58.297390Z",
     "start_time": "2024-12-24T17:14:58.293546Z"
    }
   },
   "cell_type": "code",
   "source": [
    "# A function to display output in\n",
    "\n",
    "def display_summary(url):\n",
    "    summary = summarize_website(url)\n",
    "    display(Markdown(summary))"
   ],
   "id": "1f223110757af71f",
   "outputs": [],
   "execution_count": 39
  },
  {
   "metadata": {
    "ExecuteTime": {
     "end_time": "2024-12-24T17:15:06.984215Z",
     "start_time": "2024-12-24T17:15:03.990524Z"
    }
   },
   "cell_type": "code",
   "source": "display_summary('https://owliesol.com')",
   "id": "ff3ba1dff9eda3a9",
   "outputs": [
    {
     "data": {
      "text/plain": [
       "<IPython.core.display.Markdown object>"
      ],
      "text/markdown": "# Summary of OwlieSol\n\nOwlieSol is a website dedicated to providing insights, tools, and resources related to personal and professional development. It emphasizes the importance of lifelong learning and self-improvement, offering various articles, guides, and workshops designed to empower individuals in reaching their goals.\n\n### Key Features:\n- **Personal Development Resources:** The site offers various articles and materials focusing on self-improvement techniques and strategies.\n- **Workshops and Courses:** Users can access information about upcoming workshops aimed at enhancing skills and knowledge.\n- **Community Engagement:** The platform promotes a community-oriented approach, encouraging users to connect and share experiences.\n\n### News/Announcements:\n- **Upcoming Workshop:** There is an announcement regarding an upcoming workshop on effective communication skills, scheduled for next month.\n- **New Blog Series Launch:** The website recently launched a new blog series focusing on mental wellness and its impact on productivity.\n\nOverall, OwlieSol serves as a valuable resource for individuals seeking to enhance their personal and professional lives through education and community support."
     },
     "metadata": {},
     "output_type": "display_data"
    }
   ],
   "execution_count": 40
  },
  {
   "metadata": {
    "ExecuteTime": {
     "end_time": "2024-12-24T17:15:42.827061Z",
     "start_time": "2024-12-24T17:15:36.230318Z"
    }
   },
   "cell_type": "code",
   "source": "display_summary(\"https://cnn.com\")",
   "id": "998915c936359422",
   "outputs": [
    {
     "data": {
      "text/plain": [
       "<IPython.core.display.Markdown object>"
      ],
      "text/markdown": "# Summary of CNN's Breaking News Website\n\nThe **CNN** website serves as a hub for breaking news, featuring the latest updates across various domains, including US and world news, politics, business, health, and entertainment. It offers a variety of media formats, including videos and articles.\n\n### Recent News Highlights:\n- **Former President Bill Clinton** has been discharged from the hospital after flu treatment.\n- **Russian cargo ship** sinks in the Mediterranean; 11 are reported dead following an explosion at an explosives factory in Turkey.\n- **American Airlines** has resumed flights after resolving a technical issue that caused a nationwide groundstop.\n- **Kilauea volcano** has started erupting in Hawaii, attracting holiday crowds.\n- **Global Politics**: Trump is contemplating a territorial expansion involving Panama, Greenland, and Canada.\n\n### Additional Notable Stories:\n- **Social Dynamics**: Christians protested in Syria after the burning of a Christmas tree.\n- A potential **massive volcanic eruption** is on the horizon, which experts fear could create widespread chaos.\n\nOverall, CNN delivers timely news updates, drawing attention to critical issues and ongoing global events."
     },
     "metadata": {},
     "output_type": "display_data"
    }
   ],
   "execution_count": 41
  },
  {
   "metadata": {
    "ExecuteTime": {
     "end_time": "2024-12-24T17:15:51.629374Z",
     "start_time": "2024-12-24T17:15:47.625907Z"
    }
   },
   "cell_type": "code",
   "source": "display_summary(\"https://anthropic.com\")",
   "id": "76e880c64da35d9c",
   "outputs": [
    {
     "data": {
      "text/plain": [
       "<IPython.core.display.Markdown object>"
      ],
      "text/markdown": "# Summary of Anthropic Website\n\nAnthropic is an AI safety and research company based in San Francisco, dedicated to creating reliable and beneficial AI systems. The website showcases its latest AI models, including Claude 3.5 Sonnet and Claude 3.5 Haiku, emphasizing their commitment to safety and alignment in AI development.\n\n## Key Announcements:\n- **Claude 3.5 Sonnet**: The latest intelligent AI model has been released, enhancing user interaction capabilities.\n- **New Features**: A new feature for computer use was introduced alongside the 3.5 Sonnet model on October 22, 2024. \n\n## Research and Focus Areas:\nAnthropic focuses on alignment research and the principles of AI safety, addressing crucial aspects like harmlessness through feedback and core views on AI safety."
     },
     "metadata": {},
     "output_type": "display_data"
    }
   ],
   "execution_count": 42
  }
 ],
 "metadata": {
  "kernelspec": {
   "display_name": "Python 3",
   "language": "python",
   "name": "python3"
  },
  "language_info": {
   "codemirror_mode": {
    "name": "ipython",
    "version": 2
   },
   "file_extension": ".py",
   "mimetype": "text/x-python",
   "name": "python",
   "nbconvert_exporter": "python",
   "pygments_lexer": "ipython2",
   "version": "2.7.6"
  }
 },
 "nbformat": 4,
 "nbformat_minor": 5
}
