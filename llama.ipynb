{
 "cells": [
  {
   "metadata": {},
   "cell_type": "markdown",
   "source": "## llama using Olama",
   "id": "f20d3ef1a78d72f9"
  },
  {
   "metadata": {},
   "cell_type": "code",
   "outputs": [],
   "execution_count": null,
   "source": [
    "import ollama\n",
    "from IPython.display import Markdown, display"
   ],
   "id": "5de6af98b927987c"
  },
  {
   "metadata": {
    "ExecuteTime": {
     "end_time": "2024-12-25T13:51:44.213481Z",
     "start_time": "2024-12-25T13:51:44.209893Z"
    }
   },
   "cell_type": "code",
   "source": [
    "OLLAMA_API_URL = 'http://localhost:11434/api/chat'\n",
    "HEADERS = { 'Content-Type': 'application/json' }\n",
    "MODEL = 'llama3.2'"
   ],
   "id": "10e3a60779e5b527",
   "outputs": [],
   "execution_count": 19
  },
  {
   "metadata": {
    "ExecuteTime": {
     "end_time": "2024-12-25T13:51:44.361091Z",
     "start_time": "2024-12-25T13:51:44.357841Z"
    }
   },
   "cell_type": "code",
   "source": [
    "messages = [\n",
    "    { 'role': 'user', 'content': 'Explain Generative AI Application ' }\n",
    "]"
   ],
   "id": "8f30f46dd9824189",
   "outputs": [],
   "execution_count": 20
  },
  {
   "metadata": {
    "ExecuteTime": {
     "end_time": "2024-12-25T13:52:18.183225Z",
     "start_time": "2024-12-25T13:51:44.499338Z"
    }
   },
   "cell_type": "code",
   "source": "response = ollama.chat(model=MODEL, messages=messages)",
   "id": "5494f72a308f374a",
   "outputs": [],
   "execution_count": 21
  },
  {
   "metadata": {
    "ExecuteTime": {
     "end_time": "2024-12-25T13:52:18.205937Z",
     "start_time": "2024-12-25T13:52:18.195335Z"
    }
   },
   "cell_type": "code",
   "source": "display(Markdown(response['message']['content']))",
   "id": "1cf66491f5ab3705",
   "outputs": [
    {
     "data": {
      "text/plain": [
       "<IPython.core.display.Markdown object>"
      ],
      "text/markdown": "Generative AI, also known as Generative Artificial Intelligence (GAI), is a type of artificial intelligence that enables machines to generate new content based on patterns and relationships learned from existing data. The goal of Generative AI is to create new, original content that resembles the patterns and structures found in the training data.\n\nThere are several applications of Generative AI, including:\n\n1. **Image Generation**: Generative AI can be used to generate new images, such as faces, landscapes, or objects, based on a given dataset of images.\n2. **Text Generation**: Generative AI can be used to generate new text, such as articles, stories, or conversations, based on a given dataset of text.\n3. **Music Generation**: Generative AI can be used to generate new music, such as melodies or beats, based on a given dataset of musical patterns.\n4. **Language Translation**: Generative AI can be used to translate languages in real-time, without the need for manual translation.\n5. **Recommendation Systems**: Generative AI can be used to recommend products or services based on user behavior and preferences.\n6. **Data Augmentation**: Generative AI can be used to generate new data that can be used to augment existing datasets, improving their size and diversity.\n7. **Creative Writing**: Generative AI can be used to assist writers with generating ideas, outlining stories, or even writing entire articles.\n\nGenerative AI applications have many potential benefits, including:\n\n1. **Increased Efficiency**: Automating the generation of content can save time and effort for humans.\n2. **Improved Accuracy**: Generative AI can generate content that is more accurate and precise than human-generated content.\n3. **Enhanced Creativity**: Generative AI can help humans with creative tasks, such as writing or designing, by providing new ideas and inspiration.\n\nHowever, Generative AI also has some potential drawbacks, including:\n\n1. **Bias and Fairness**: Generative AI models can perpetuate biases and unfairness in the data they are trained on.\n2. **Authenticity and Transparency**: The generated content may not be clearly identifiable as AI-generated, which raises questions about authenticity and transparency.\n3. **Job Displacement**: Generative AI could potentially displace human workers in certain industries.\n\nSome of the key technologies used in Generative AI include:\n\n1. **Deep Learning**: A type of machine learning that uses neural networks to learn complex patterns in data.\n2. **Generative Adversarial Networks (GANs)**: A type of deep learning model that uses two neural networks, one generator and one discriminator, to generate new content.\n3. **Variational Autoencoders (VAEs)**: A type of deep learning model that learns to represent complex patterns in data using a probabilistic framework.\n\nSome examples of companies and organizations using Generative AI include:\n\n1. **Google**: Uses Generative AI for applications such as image and text generation, language translation, and recommendation systems.\n2. **Facebook**: Uses Generative AI for applications such as image and video generation, sentiment analysis, and customer service chatbots.\n3. **Amazon**: Uses Generative AI for applications such as product recommendations, customer service chatbots, and content generation.\n\nIn summary, Generative AI is a powerful technology that can be used to generate new content based on patterns and relationships learned from existing data. While it has many potential benefits, it also raises important questions about bias, authenticity, and job displacement."
     },
     "metadata": {},
     "output_type": "display_data"
    }
   ],
   "execution_count": 22
  }
 ],
 "metadata": {
  "kernelspec": {
   "display_name": "Python 3",
   "language": "python",
   "name": "python3"
  },
  "language_info": {
   "codemirror_mode": {
    "name": "ipython",
    "version": 2
   },
   "file_extension": ".py",
   "mimetype": "text/x-python",
   "name": "python",
   "nbconvert_exporter": "python",
   "pygments_lexer": "ipython2",
   "version": "2.7.6"
  }
 },
 "nbformat": 4,
 "nbformat_minor": 5
}
